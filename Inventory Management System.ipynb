{
 "cells": [
  {
   "cell_type": "markdown",
   "metadata": {},
   "source": [
    "# Inventory Management System"
   ]
  },
  {
   "cell_type": "markdown",
   "metadata": {},
   "source": [
    "## Product Details:- <br>\n",
    "#### 1. Product ID<br>\n",
    "#### 2. Product Name<br>\n",
    "#### 3. Product Price<br>\n",
    "#### 4. Product Quantity"
   ]
  },
  {
   "cell_type": "markdown",
   "metadata": {},
   "source": [
    "## Adding Products"
   ]
  },
  {
   "cell_type": "code",
   "execution_count": null,
   "metadata": {},
   "outputs": [],
   "source": [
    "def newId(s):\n",
    "    l=len(s)\n",
    "    id_list=[False]*(l+1)\n",
    "    n=0\n",
    "    for i in s:\n",
    "        s1=i.split(\",\")\n",
    "        if(s1[0]!=''):\n",
    "            id_list[int(s1[0])]=True\n",
    "    \n",
    "    for i in range(l):\n",
    "        if(id_list[i]==False):\n",
    "            break\n",
    "    \n",
    "    return i"
   ]
  },
  {
   "cell_type": "code",
   "execution_count": null,
   "metadata": {},
   "outputs": [],
   "source": [
    "def addProduct(name,price,quantity):\n",
    "    clearEmpty()\n",
    "    fd1=open(os.path.dirname(__file__)+\"\\Inventory.csv\",\"r\")\n",
    "    s=fd1.read().split(\"\\n\")\n",
    "    c=newId(s)\n",
    "    fd1.close()\n",
    "    \n",
    "    fd2=open(os.path.dirname(__file__)+\"\\Inventory.csv\",\"a\")\n",
    "    fd2.write(str(c)+\",\"+name+\",\"+str(price)+\",\"+str(quantity)+\"\\n\")\n",
    "    fd2.close()"
   ]
  },
  {
   "cell_type": "markdown",
   "metadata": {},
   "source": [
    "## Product Details"
   ]
  },
  {
   "cell_type": "code",
   "execution_count": null,
   "metadata": {},
   "outputs": [],
   "source": [
    "def productDetails(id):\n",
    "    fd=open(os.path.dirname(__file__)+\"\\Inventory.csv\",\"r\")\n",
    "    s=fd.read().split(\"\\n\")\n",
    "    \n",
    "    s2=\"\"\n",
    "    flag=False\n",
    "    for i in s:\n",
    "        s1=i.split(\",\")\n",
    "        if(s1[0]==id):\n",
    "            flag=True\n",
    "            #print(s1[0],s1[1],s1[2],s1[3],sep=\"\\t\")\n",
    "            s2=s1[0]+\",\"+s1[1]+\",\"+s1[2]+\",\"+s1[3]\n",
    "            break\n",
    "    \n",
    "    #if(flag==False):\n",
    "    #    print(\"The product is not found.\")       \n",
    "    fd.close()\n",
    "    return s2"
   ]
  },
  {
   "cell_type": "markdown",
   "metadata": {},
   "source": [
    "## Updating Inventory"
   ]
  },
  {
   "cell_type": "code",
   "execution_count": null,
   "metadata": {},
   "outputs": [],
   "source": [
    "import pandas as pd\n",
    "def updateInventory2(id:int,quantity:int):\n",
    "    flag=False\n",
    "    fd=pd.read_csv(os.path.dirname(__file__)+\"\\Inventory.csv\")\n",
    "    \n",
    "    l=len(fd)\n",
    "    for i in range(l):\n",
    "        if(fd.loc[i,\"ID\"]==id):\n",
    "            flag=True\n",
    "            fd.loc[i,\"Quantity\"]=fd.loc[i,\"Quantity\"]+quantity\n",
    "            break\n",
    "    \n",
    "    if(flag==True):\n",
    "        fd.to_csv(os.path.dirname(__file__)+\"\\Inventory.csv\",index=False)\n",
    "    else:\n",
    "        print(\"Product is not found.\")"
   ]
  },
  {
   "cell_type": "code",
   "execution_count": null,
   "metadata": {},
   "outputs": [],
   "source": [
    "def updateInventory(id:str,quantity:int):\n",
    "    fd=open(os.path.dirname(__file__)+\"\\Inventory.csv\",\"r\")\n",
    "    s=fd.read().split(\"\\n\")\n",
    "    \n",
    "    flag=False\n",
    "    for i in range(len(s)):\n",
    "        s1=s[i].split(\",\")\n",
    "        if(s1[0]==id):\n",
    "            flag=True\n",
    "            \n",
    "            if(quantity<0 and int(s1[3])<-quantity):\n",
    "                print(\"Not enough quantity present.\")\n",
    "                flag=False\n",
    "            else:\n",
    "                s[i]=s1[0]+\",\"+s1[1]+\",\"+s1[2]+\",\"\n",
    "                s[i]+=str(int(s1[3])+quantity)\n",
    "        \n",
    "        s[i]+=\"\\n\"\n",
    "            \n",
    "    \n",
    "    fd.close()\n",
    "    if(flag==True):\n",
    "        fd=open(os.path.dirname(__file__)+\"\\Inventory.csv\",\"w\")\n",
    "        fd.writelines(s)\n",
    "        fd.close()\n",
    "        clearEmpty()\n",
    "    else:\n",
    "        print(\"The product is not found.\")\n",
    "    \n",
    "    return flag"
   ]
  },
  {
   "cell_type": "markdown",
   "metadata": {},
   "source": [
    "## Updating The Unit Price"
   ]
  },
  {
   "cell_type": "code",
   "execution_count": null,
   "metadata": {},
   "outputs": [],
   "source": [
    "def updatePrice(id,price:int):\n",
    "    fd=open(os.path.dirname(__file__)+\"\\Inventory.csv\",\"r\")\n",
    "    s=fd.read().split(\"\\n\")\n",
    "    \n",
    "    flag=False\n",
    "    for i in range(len(s)):\n",
    "        s1=s[i].split(\",\")\n",
    "        if(s1[0]==id):\n",
    "            flag=True\n",
    "            s[i]=s1[0]+\",\"+s1[1]+\",\"+str(price)+\",\"+s1[3]\n",
    "            \n",
    "        s[i]+=\"\\n\"\n",
    "            \n",
    "    \n",
    "    fd.close()\n",
    "    if(flag==True):\n",
    "        fd=open(os.path.dirname(__file__)+\"\\Inventory.csv\",\"w\")\n",
    "        fd.writelines(s)\n",
    "        fd.close()\n",
    "        clearEmpty()\n",
    "    else:\n",
    "        print(\"The product is not found.\")\n",
    "    \n",
    "    return flag"
   ]
  },
  {
   "cell_type": "markdown",
   "metadata": {},
   "source": [
    "## Deleting Products"
   ]
  },
  {
   "cell_type": "code",
   "execution_count": null,
   "metadata": {},
   "outputs": [],
   "source": [
    "def deleteProduct(id):\n",
    "    fd=open(os.path.dirname(__file__)+\"\\Inventory.csv\",\"r\")\n",
    "    s=fd.read().split(\"\\n\")\n",
    "    \n",
    "    flag=False\n",
    "    j=0\n",
    "    for i in range(len(s)):\n",
    "        s1=s[i].split(\",\")\n",
    "        if(s1[0]==id):\n",
    "            flag=True\n",
    "            j=i\n",
    "        \n",
    "        s[i]+=\"\\n\"\n",
    "    fd.close()\n",
    "    \n",
    "    if(flag==True):\n",
    "        fd=open(os.path.dirname(__file__)+\"\\Inventory.csv\",\"w\")\n",
    "        fd.writelines(s[:j])\n",
    "        fd.writelines(s[j+1:])\n",
    "        fd.close()\n",
    "        \n",
    "        clearEmpty()\n",
    "    else:\n",
    "        print(\"The product is not found.\")\n",
    "        \n",
    "def clearEmpty():\n",
    "    fd=open(os.path.dirname(__file__)+\"\\Inventory.csv\",\"r\")\n",
    "    s=fd.read().split(\"\\n\")\n",
    "    s2=\"\"\n",
    "    for i in s:\n",
    "        if(i!=\"\"):\n",
    "            s2+=i+\"\\n\"\n",
    "    \n",
    "    fd.close()\n",
    "    fd=open(os.path.dirname(__file__)+\"\\Inventory.csv\",\"w\")\n",
    "    fd.write(s2)\n",
    "    fd.close()"
   ]
  },
  {
   "cell_type": "markdown",
   "metadata": {},
   "source": [
    "## Generating Purchase and Sales Records"
   ]
  },
  {
   "cell_type": "markdown",
   "metadata": {},
   "source": [
    "#### Purchase Details:- <br>\n",
    "#### 1. Merchant Name<br>\n",
    "#### 2. Contact Details of the merchant<br>\n",
    "#### 3. Product ID<br>\n",
    "#### 4. Quantity <br>\n",
    "#### 5. Total Cost<br>\n",
    "#### 6. Purchase Time"
   ]
  },
  {
   "cell_type": "code",
   "execution_count": null,
   "metadata": {},
   "outputs": [],
   "source": [
    "def purchase():\n",
    "    fd=open(os.path.dirname(__file__)+\"\\Purchase.csv\",\"a\")\n",
    "    \n",
    "    s=[]\n",
    "    merchant=input(\"Please enter the merchant name:- \")\n",
    "    contact=input(\"Please enter the contact details of the merchant:- \")\n",
    "    while(True):\n",
    "        id=input(\"Please enter the product id:- \")\n",
    "        q=int(input(\"Please enter the quantity:-\"))\n",
    "        \n",
    "        if(updateInventory(id,q)==True):\n",
    "            s.append(productDetails(id))\n",
    "            p=int(s[len(s)-1].split(\",\")[2])\n",
    "            fd.write(merchant+\",\"+contact+\",\"+id+\",\"+str(q)+\",\"+str(p*q)+\",\"+str(datetime.datetime.now())+\"\\n\")\n",
    "            s[len(s)-1]+=\",\"+str(q)+\",\"+str(p*q)\n",
    "        flag=input(\"Do you want to purchase more from the current merchant(Yes:- 1 or No:- 0)?:- \")\n",
    "        if(flag==\"0\"):\n",
    "            break\n",
    "    fd.close()\n",
    "    \n",
    "    d=datetime.datetime.now()\n",
    "    filepath=os.path.dirname(__file__)+\"\\\\Purchasing Receipts\\\\\"+merchant+\" \"+str(d.date())+\" \"+d.strftime(\"%H-%M-%S.%f\")+\".csv\"\n",
    "    fd=open(filepath,\"a\")\n",
    "    print(\"_\"*200)\n",
    "    print(\"Purchasing Receipt on \",datetime.datetime.now(),\":- \",sep=\"\")\n",
    "    fd.write(\"Purchasing Receipt on:-,\"+str(datetime.datetime.now())+\"\\n\")\n",
    "    print(\"Merchant Name:- \"+merchant,sep=\"\")\n",
    "    fd.write(\"Merchant Name:-,\"+merchant+\"\\n\")\n",
    "    print(\"Merchant Contact:- \"+contact)\n",
    "    fd.write(\"Merchant Contact:-,\"+contact+\"\\n\")\n",
    "    print(\"_\"*200)\n",
    "    print(\"Serial Number\\tProduct ID\\tProduct Name\\tUnit Price\\t\\tQuantity Purchased\\tTotal Price\")\n",
    "    fd.write(\"Serial Number,Product ID,Product Name,Unit Price,Quantity Purchased,Total Price\\n\")\n",
    "    print(\"_\"*200)\n",
    "    \n",
    "    t=0\n",
    "    for i in range(len(s)):\n",
    "        s1=s[i].split(\",\")\n",
    "        print((i+1),\"\\t\",s1[0],s1[1],s1[2],\"\\t\",s1[4],\"\\t\",s1[5],sep=\"\\t\")\n",
    "        fd.write(str(i+1)+\",\"+s1[0]+\",\"+s1[1]+\",\"+s1[2]+\",\"+s1[4]+\",\"+s1[5]+\"\\n\")\n",
    "        t+=int(s1[5])\n",
    "    print(\"\\t\\t\\t\\t\\t\\t\\t\\t\\tTotal Amount\\t\",t,sep=\"\\t\")\n",
    "    print(\"_\"*200)\n",
    "    fd.write(\",,,,Total Amount,\"+str(t))\n",
    "    fd.close()"
   ]
  },
  {
   "cell_type": "markdown",
   "metadata": {},
   "source": [
    "#### Sales Details:- <br>\n",
    "#### 1. User Name<br>\n",
    "#### 2. Contact Details of the user<br>\n",
    "#### 3. Product ID<br>\n",
    "#### 4. Quantity <br>\n",
    "#### 5. Total Price<br>\n",
    "#### 6. Sales Time"
   ]
  },
  {
   "cell_type": "code",
   "execution_count": null,
   "metadata": {},
   "outputs": [],
   "source": [
    "def sales():\n",
    "    fd=open(os.path.dirname(__file__)+\"\\Sales.csv\",\"a\")\n",
    "    \n",
    "    s=[]\n",
    "    un=input(\"Please enter your username:- \")\n",
    "    contact=input(\"Please enter your contact details:- \")\n",
    "    while(True):\n",
    "        id=input(\"Please enter the product id:- \")\n",
    "        q=int(input(\"Please enter the quantity:- \"))\n",
    "        \n",
    "        if(updateInventory(id,-q)==True):\n",
    "            s.append(productDetails(id))\n",
    "            p=int(s[len(s)-1].split(\",\")[2])\n",
    "            fd.write(un+\",\"+contact+\",\"+id+\",\"+str(q)+\",\"+str(p*q)+\",\"+str(datetime.datetime.now())+\"\\n\")\n",
    "            s[len(s)-1]+=\",\"+str(q)+\",\"+str(p*q)\n",
    "            \n",
    "        flag=input(\"Do you want to buy more(Yes:- 1 or No:- 0)?:- \")\n",
    "        if(flag==\"0\"):\n",
    "            break\n",
    "    fd.close()\n",
    "    \n",
    "    d=datetime.datetime.now()\n",
    "    filepath=os.path.dirname(__file__)+\"\\\\Sales Bills\\\\\"+un+\" \"+str(d.date())+\" \"+d.strftime(\"%H-%M-%S.%f\")+\".csv\"\n",
    "    fd=open(filepath,\"a\")\n",
    "    print(\"_\"*200)\n",
    "    print(\"Sales Bill on \",datetime.datetime.now(),\":- \",sep=\"\")\n",
    "    fd.write(\"Sales Bill on:- \"+\",\"+str(datetime.datetime.now())+\"\\n\")\n",
    "    print(\"User Name:- \",un,sep=\"\")\n",
    "    fd.write(\"User Name:- ,\"+un+\"\\n\")\n",
    "    print(\"User Contact:- \",contact,sep=\"\")\n",
    "    fd.write(\"User Contact:- ,\"+contact+\"\\n\")\n",
    "    print(\"_\"*200)\n",
    "    print(\"Serial Number\\tProduct ID\\tProduct Name\\tUnit Price\\t\\tQuantity Bought\\tTotal Price\")\n",
    "    fd.write(\"Serial Number,Product ID,Product Name,Unit Price,Quantity Bought,Total Price\\n\")\n",
    "    print(\"_\"*200)\n",
    "    t=0\n",
    "    for i in range(len(s)):\n",
    "        s1=s[i].split(\",\")\n",
    "        print((i+1),\"\\t\",s1[0],s1[1],s1[2],\"\\t\",s1[4],\"\\t\",s1[5],sep=\"\\t\")\n",
    "        fd.write(str(i+1)+\",\"+s1[0]+\",\"+s1[1]+\",\"+s1[2]+\",\"+s1[4]+\",\"+s1[5]+\"\\n\")\n",
    "        t+=int(s1[5])\n",
    "    print(\"\\t\\t\\t\\t\\t\\t\\t\\t\\tTotal Amount\\t\",t,sep=\"\\t\")\n",
    "    print(\"_\"*200)\n",
    "    fd.write(\",,,,Total Amount,\"+str(t))\n",
    "    fd.close()"
   ]
  },
  {
   "cell_type": "markdown",
   "metadata": {},
   "source": [
    "## Integrating all functions together"
   ]
  },
  {
   "cell_type": "code",
   "execution_count": null,
   "metadata": {},
   "outputs": [],
   "source": [
    "while(True):\n",
    "    print(\"Please enter you choice by entering the corresponding numbers associated with the choices:- \")\n",
    "    print(\"1. Adding Products\")\n",
    "    print(\"2. Deleting products\")\n",
    "    print(\"3. Displaying Product details\")\n",
    "    print(\"4. Updating Inventory\")\n",
    "    print(\"5. Updating Price\")\n",
    "    print(\"6. Purchasing Items\")\n",
    "    print(\"7. Selling Items\")\n",
    "    print(\"8. Exiting Options\")\n",
    "    choice=input(\"Please enter your choice:- \")\n",
    "    \n",
    "    match choice:\n",
    "        case \"1\":\n",
    "            name=input(\"Please enter product name:- \")\n",
    "            p=int(input(\"Please enter unint price:- \"))\n",
    "            q=int(input(\"Please enter available quantity:- \"))\n",
    "            addProduct(name,p,q)\n",
    "        \n",
    "        case \"2\":\n",
    "            id=input(\"Please enter id of the product to be deleted:- \")\n",
    "            deleteProduct(id)\n",
    "\n",
    "        case \"3\":\n",
    "            id=input(\"Please enter product id:- \")\n",
    "            print(\"ID\\tName\\tUnit Price\\tQuantity Available\")\n",
    "            s=productDetails(id).split(\",\")\n",
    "            print(s[0],s[1],s[2],s[3],sep=\"\\t\")\n",
    "            \n",
    "        case \"4\":\n",
    "            id=input(\"Please enter product id:- \")\n",
    "            q=input(\"Please enter quantity to be added:- \")\n",
    "            updateInventory(id,int(q))\n",
    "\n",
    "        case \"5\":\n",
    "            id=input(\"Please enter id of the product whose unit price is to be updated:- \")\n",
    "            price=int(input(\"Please enter the new unit price of the product:- \"))\n",
    "            updatePrice(id,price)\n",
    "        \n",
    "        case \"6\":\n",
    "            purchase()\n",
    "            \n",
    "        case \"7\":\n",
    "            sales()\n",
    "        \n",
    "        case \"8\":\n",
    "            break\n",
    "        case _:\n",
    "            print(\"You have entered an invalid choice. You may please try again.\")\n",
    "\n"
   ]
  }
 ],
 "metadata": {
  "kernelspec": {
   "display_name": "Python 3 (ipykernel)",
   "language": "python",
   "name": "python3"
  },
  "language_info": {
   "codemirror_mode": {
    "name": "ipython",
    "version": 3
   },
   "file_extension": ".py",
   "mimetype": "text/x-python",
   "name": "python",
   "nbconvert_exporter": "python",
   "pygments_lexer": "ipython3",
   "version": "3.9.13"
  }
 },
 "nbformat": 4,
 "nbformat_minor": 2
}
